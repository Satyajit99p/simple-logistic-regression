{
 "cells": [
  {
   "cell_type": "code",
   "execution_count": 16,
   "metadata": {},
   "outputs": [
    {
     "name": "stdout",
     "output_type": "stream",
     "text": [
      "[2 1 1 2 1 2 1 1 1 2 1 2 1 1 1 2 2 1 2 1 2 1 1 1 1 1 2 1 1 2 1 1 1 1 1 1 1\n",
      " 2 2 1 1 1 1 1 1 1 2 1 1 1 1 1 2 1 1 1 2 1 1 1 1 1 1 1 1 1 1 1 2 1 1 2 1 1\n",
      " 2 1 1 2 1 1 1 1 1 2 2 1 2 1 1 1 1 1 2]\n",
      "[[53  8]\n",
      " [16 16]]\n",
      "93\n",
      "0.7419354838709677\n"
     ]
    }
   ],
   "source": [
    "import pandas as pd\n",
    "import numpy as np\n",
    "import matplotlib.pyplot as plt\n",
    "\n",
    "dataset=pd.read_csv('C:/Users/SATYAJIT/Downloads/Heart_disease.csv')\n",
    "\n",
    "labels=dataset.iloc[:,-1].values\n",
    "#print(labels)\n",
    "\n",
    "features=dataset.iloc[:,0:9].values\n",
    "#print(features)\n",
    "\n",
    "from sklearn.model_selection import train_test_split\n",
    "from sklearn.linear_model import LogisticRegression\n",
    "from sklearn.preprocessing import StandardScaler\n",
    "\n",
    "features_train,features_test,labels_train,labels_test=train_test_split(features,labels,test_size=0.2,random_state=0)\n",
    "\n",
    "sc=StandardScaler()\n",
    "features_train=sc.fit_transform(features_train)\n",
    "features_test=sc.transform(features_test)\n",
    "\n",
    "classifier=LogisticRegression()\n",
    "classifier.fit(features_train,labels_train)\n",
    "pred=classifier.predict(features_test)\n",
    "\n",
    "print(pred)\n",
    "\n",
    "from sklearn.metrics import confusion_matrix\n",
    "matrix=confusion_matrix(labels_test,pred)\n",
    "\n",
    "print(matrix)\n",
    "print(len(features_test))\n",
    "\n",
    "#print(69/93)\n",
    "#[[53  8]\n",
    "# [16 16]]\n",
    "\n",
    "#score=(53+16)/93=0.7419354838709677"
   ]
  },
  {
   "cell_type": "code",
   "execution_count": null,
   "metadata": {},
   "outputs": [],
   "source": []
  },
  {
   "cell_type": "code",
   "execution_count": null,
   "metadata": {},
   "outputs": [],
   "source": []
  }
 ],
 "metadata": {
  "kernelspec": {
   "display_name": "Python 3",
   "language": "python",
   "name": "python3"
  },
  "language_info": {
   "codemirror_mode": {
    "name": "ipython",
    "version": 3
   },
   "file_extension": ".py",
   "mimetype": "text/x-python",
   "name": "python",
   "nbconvert_exporter": "python",
   "pygments_lexer": "ipython3",
   "version": "3.7.6"
  }
 },
 "nbformat": 4,
 "nbformat_minor": 4
}
